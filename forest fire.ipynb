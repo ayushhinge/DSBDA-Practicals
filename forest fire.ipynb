{
 "cells": [
  {
   "cell_type": "code",
   "execution_count": 1,
   "id": "f5241d40-ab0e-4f02-a97d-5c1eba2d4d0d",
   "metadata": {},
   "outputs": [
    {
     "name": "stdout",
     "output_type": "stream",
     "text": [
      "Requirement already satisfied: mrjob in c:\\users\\hinge\\appdata\\local\\programs\\python\\python312\\lib\\site-packages (0.7.4)\n",
      "Requirement already satisfied: PyYAML>=3.10 in c:\\users\\hinge\\appdata\\local\\programs\\python\\python312\\lib\\site-packages (from mrjob) (6.0.2)\n",
      "Note: you may need to restart the kernel to use updated packages.\n"
     ]
    },
    {
     "name": "stderr",
     "output_type": "stream",
     "text": [
      "\n",
      "[notice] A new release of pip is available: 24.3.1 -> 25.1.1\n",
      "[notice] To update, run: C:\\Users\\hinge\\AppData\\Local\\Programs\\Python\\Python312\\python.exe -m pip install --upgrade pip\n"
     ]
    }
   ],
   "source": [
    "pip install mrjob"
   ]
  },
  {
   "cell_type": "code",
   "execution_count": 2,
   "id": "2db7ff4d-b9ba-4ebf-afe3-6ecd7fd947da",
   "metadata": {},
   "outputs": [],
   "source": [
    "import pandas as pd"
   ]
  },
  {
   "cell_type": "code",
   "execution_count": 3,
   "id": "314dc84a-c60f-4b4b-828e-3a780186d57c",
   "metadata": {},
   "outputs": [],
   "source": [
    "df = pd.read_csv('forestfires.csv')"
   ]
  },
  {
   "cell_type": "code",
   "execution_count": 4,
   "id": "940f97ce-8580-4c67-84e0-0785afc50591",
   "metadata": {},
   "outputs": [
    {
     "data": {
      "text/html": [
       "<div>\n",
       "<style scoped>\n",
       "    .dataframe tbody tr th:only-of-type {\n",
       "        vertical-align: middle;\n",
       "    }\n",
       "\n",
       "    .dataframe tbody tr th {\n",
       "        vertical-align: top;\n",
       "    }\n",
       "\n",
       "    .dataframe thead th {\n",
       "        text-align: right;\n",
       "    }\n",
       "</style>\n",
       "<table border=\"1\" class=\"dataframe\">\n",
       "  <thead>\n",
       "    <tr style=\"text-align: right;\">\n",
       "      <th></th>\n",
       "      <th>X</th>\n",
       "      <th>Y</th>\n",
       "      <th>month</th>\n",
       "      <th>day</th>\n",
       "      <th>FFMC</th>\n",
       "      <th>DMC</th>\n",
       "      <th>DC</th>\n",
       "      <th>ISI</th>\n",
       "      <th>temp</th>\n",
       "      <th>RH</th>\n",
       "      <th>wind</th>\n",
       "      <th>rain</th>\n",
       "      <th>area</th>\n",
       "    </tr>\n",
       "  </thead>\n",
       "  <tbody>\n",
       "    <tr>\n",
       "      <th>0</th>\n",
       "      <td>7</td>\n",
       "      <td>5</td>\n",
       "      <td>mar</td>\n",
       "      <td>fri</td>\n",
       "      <td>86.2</td>\n",
       "      <td>26.2</td>\n",
       "      <td>94.3</td>\n",
       "      <td>5.1</td>\n",
       "      <td>8.2</td>\n",
       "      <td>51</td>\n",
       "      <td>6.7</td>\n",
       "      <td>0.0</td>\n",
       "      <td>0.0</td>\n",
       "    </tr>\n",
       "    <tr>\n",
       "      <th>1</th>\n",
       "      <td>7</td>\n",
       "      <td>4</td>\n",
       "      <td>oct</td>\n",
       "      <td>tue</td>\n",
       "      <td>90.6</td>\n",
       "      <td>35.4</td>\n",
       "      <td>669.1</td>\n",
       "      <td>6.7</td>\n",
       "      <td>18.0</td>\n",
       "      <td>33</td>\n",
       "      <td>0.9</td>\n",
       "      <td>0.0</td>\n",
       "      <td>0.0</td>\n",
       "    </tr>\n",
       "    <tr>\n",
       "      <th>2</th>\n",
       "      <td>7</td>\n",
       "      <td>4</td>\n",
       "      <td>oct</td>\n",
       "      <td>sat</td>\n",
       "      <td>90.6</td>\n",
       "      <td>43.7</td>\n",
       "      <td>686.9</td>\n",
       "      <td>6.7</td>\n",
       "      <td>14.6</td>\n",
       "      <td>33</td>\n",
       "      <td>1.3</td>\n",
       "      <td>0.0</td>\n",
       "      <td>0.0</td>\n",
       "    </tr>\n",
       "    <tr>\n",
       "      <th>3</th>\n",
       "      <td>8</td>\n",
       "      <td>6</td>\n",
       "      <td>mar</td>\n",
       "      <td>fri</td>\n",
       "      <td>91.7</td>\n",
       "      <td>33.3</td>\n",
       "      <td>77.5</td>\n",
       "      <td>9.0</td>\n",
       "      <td>8.3</td>\n",
       "      <td>97</td>\n",
       "      <td>4.0</td>\n",
       "      <td>0.2</td>\n",
       "      <td>0.0</td>\n",
       "    </tr>\n",
       "    <tr>\n",
       "      <th>4</th>\n",
       "      <td>8</td>\n",
       "      <td>6</td>\n",
       "      <td>mar</td>\n",
       "      <td>sun</td>\n",
       "      <td>89.3</td>\n",
       "      <td>51.3</td>\n",
       "      <td>102.2</td>\n",
       "      <td>9.6</td>\n",
       "      <td>11.4</td>\n",
       "      <td>99</td>\n",
       "      <td>1.8</td>\n",
       "      <td>0.0</td>\n",
       "      <td>0.0</td>\n",
       "    </tr>\n",
       "  </tbody>\n",
       "</table>\n",
       "</div>"
      ],
      "text/plain": [
       "   X  Y month  day  FFMC   DMC     DC  ISI  temp  RH  wind  rain  area\n",
       "0  7  5   mar  fri  86.2  26.2   94.3  5.1   8.2  51   6.7   0.0   0.0\n",
       "1  7  4   oct  tue  90.6  35.4  669.1  6.7  18.0  33   0.9   0.0   0.0\n",
       "2  7  4   oct  sat  90.6  43.7  686.9  6.7  14.6  33   1.3   0.0   0.0\n",
       "3  8  6   mar  fri  91.7  33.3   77.5  9.0   8.3  97   4.0   0.2   0.0\n",
       "4  8  6   mar  sun  89.3  51.3  102.2  9.6  11.4  99   1.8   0.0   0.0"
      ]
     },
     "execution_count": 4,
     "metadata": {},
     "output_type": "execute_result"
    }
   ],
   "source": [
    "df.head()"
   ]
  },
  {
   "cell_type": "code",
   "execution_count": 5,
   "id": "914a3ec5-2d2d-4af1-9e54-c0efa98256fe",
   "metadata": {},
   "outputs": [],
   "source": [
    "from mrjob.job import MRJob"
   ]
  },
  {
   "cell_type": "code",
   "execution_count": 6,
   "id": "60f20858-94a5-4e41-8bfc-8ddb81d3aefb",
   "metadata": {},
   "outputs": [],
   "source": [
    "import sys\n",
    "sys.argv = ['avg_temperature.py', 'forestfires.csv']"
   ]
  },
  {
   "cell_type": "code",
   "execution_count": 7,
   "id": "73260d03-35c5-4c8c-a4b3-b7c1feaf3866",
   "metadata": {},
   "outputs": [
    {
     "name": "stdout",
     "output_type": "stream",
     "text": [
      "Defaulting to user installation because normal site-packages is not writeable\n",
      "Requirement already satisfied: pyhive in c:\\users\\hinge\\appdata\\roaming\\python\\python38\\site-packages (0.7.0)\n",
      "Requirement already satisfied: pandas in c:\\users\\hinge\\appdata\\roaming\\python\\python38\\site-packages (2.0.3)\n",
      "Requirement already satisfied: seaborn in c:\\users\\hinge\\appdata\\roaming\\python\\python38\\site-packages (0.13.2)\n",
      "Requirement already satisfied: matplotlib in c:\\users\\hinge\\appdata\\roaming\\python\\python38\\site-packages (3.7.5)\n",
      "Requirement already satisfied: future in c:\\users\\hinge\\appdata\\roaming\\python\\python38\\site-packages (from pyhive) (1.0.0)\n",
      "Requirement already satisfied: python-dateutil in c:\\users\\hinge\\appdata\\roaming\\python\\python38\\site-packages (from pyhive) (2.9.0.post0)\n",
      "Requirement already satisfied: pytz>=2020.1 in c:\\users\\hinge\\appdata\\roaming\\python\\python38\\site-packages (from pandas) (2025.2)\n",
      "Requirement already satisfied: tzdata>=2022.1 in c:\\users\\hinge\\appdata\\roaming\\python\\python38\\site-packages (from pandas) (2025.2)\n",
      "Requirement already satisfied: numpy>=1.20.3 in c:\\users\\hinge\\appdata\\roaming\\python\\python38\\site-packages (from pandas) (1.24.4)\n",
      "Requirement already satisfied: contourpy>=1.0.1 in c:\\users\\hinge\\appdata\\roaming\\python\\python38\\site-packages (from matplotlib) (1.1.1)\n",
      "Requirement already satisfied: cycler>=0.10 in c:\\users\\hinge\\appdata\\roaming\\python\\python38\\site-packages (from matplotlib) (0.12.1)\n",
      "Requirement already satisfied: fonttools>=4.22.0 in c:\\users\\hinge\\appdata\\roaming\\python\\python38\\site-packages (from matplotlib) (4.57.0)\n",
      "Requirement already satisfied: kiwisolver>=1.0.1 in c:\\users\\hinge\\appdata\\roaming\\python\\python38\\site-packages (from matplotlib) (1.4.7)\n",
      "Requirement already satisfied: packaging>=20.0 in c:\\users\\hinge\\appdata\\roaming\\python\\python38\\site-packages (from matplotlib) (25.0)\n",
      "Requirement already satisfied: pillow>=6.2.0 in c:\\users\\hinge\\appdata\\roaming\\python\\python38\\site-packages (from matplotlib) (10.4.0)\n",
      "Requirement already satisfied: pyparsing>=2.3.1 in c:\\users\\hinge\\appdata\\roaming\\python\\python38\\site-packages (from matplotlib) (3.1.4)\n",
      "Requirement already satisfied: importlib-resources>=3.2.0 in c:\\users\\hinge\\appdata\\roaming\\python\\python38\\site-packages (from matplotlib) (6.4.5)\n",
      "Requirement already satisfied: zipp>=3.1.0 in c:\\users\\hinge\\appdata\\roaming\\python\\python38\\site-packages (from importlib-resources>=3.2.0->matplotlib) (3.20.2)\n",
      "Requirement already satisfied: six>=1.5 in c:\\users\\hinge\\appdata\\roaming\\python\\python38\\site-packages (from python-dateutil->pyhive) (1.17.0)\n",
      "Defaulting to user installation because normal site-packages is not writeable\n",
      "Requirement already satisfied: thrift in c:\\users\\hinge\\appdata\\roaming\\python\\python38\\site-packages (0.21.0)\n",
      "Requirement already satisfied: thrift-sasl in c:\\users\\hinge\\appdata\\roaming\\python\\python38\\site-packages (0.4.3)\n",
      "Requirement already satisfied: pyhive in c:\\users\\hinge\\appdata\\roaming\\python\\python38\\site-packages (0.7.0)\n",
      "Requirement already satisfied: pandas in c:\\users\\hinge\\appdata\\roaming\\python\\python38\\site-packages (2.0.3)\n",
      "Requirement already satisfied: seaborn in c:\\users\\hinge\\appdata\\roaming\\python\\python38\\site-packages (0.13.2)\n",
      "Requirement already satisfied: matplotlib in c:\\users\\hinge\\appdata\\roaming\\python\\python38\\site-packages (3.7.5)\n",
      "Requirement already satisfied: six>=1.7.2 in c:\\users\\hinge\\appdata\\roaming\\python\\python38\\site-packages (from thrift) (1.17.0)\n",
      "Requirement already satisfied: pure-sasl>=0.6.2 in c:\\users\\hinge\\appdata\\roaming\\python\\python38\\site-packages (from thrift-sasl) (0.6.2)\n",
      "Requirement already satisfied: future in c:\\users\\hinge\\appdata\\roaming\\python\\python38\\site-packages (from pyhive) (1.0.0)\n",
      "Requirement already satisfied: python-dateutil in c:\\users\\hinge\\appdata\\roaming\\python\\python38\\site-packages (from pyhive) (2.9.0.post0)\n",
      "Requirement already satisfied: pytz>=2020.1 in c:\\users\\hinge\\appdata\\roaming\\python\\python38\\site-packages (from pandas) (2025.2)\n",
      "Requirement already satisfied: tzdata>=2022.1 in c:\\users\\hinge\\appdata\\roaming\\python\\python38\\site-packages (from pandas) (2025.2)\n",
      "Requirement already satisfied: numpy>=1.20.3 in c:\\users\\hinge\\appdata\\roaming\\python\\python38\\site-packages (from pandas) (1.24.4)\n",
      "Requirement already satisfied: contourpy>=1.0.1 in c:\\users\\hinge\\appdata\\roaming\\python\\python38\\site-packages (from matplotlib) (1.1.1)\n",
      "Requirement already satisfied: cycler>=0.10 in c:\\users\\hinge\\appdata\\roaming\\python\\python38\\site-packages (from matplotlib) (0.12.1)\n",
      "Requirement already satisfied: fonttools>=4.22.0 in c:\\users\\hinge\\appdata\\roaming\\python\\python38\\site-packages (from matplotlib) (4.57.0)\n",
      "Requirement already satisfied: kiwisolver>=1.0.1 in c:\\users\\hinge\\appdata\\roaming\\python\\python38\\site-packages (from matplotlib) (1.4.7)\n",
      "Requirement already satisfied: packaging>=20.0 in c:\\users\\hinge\\appdata\\roaming\\python\\python38\\site-packages (from matplotlib) (25.0)\n",
      "Requirement already satisfied: pillow>=6.2.0 in c:\\users\\hinge\\appdata\\roaming\\python\\python38\\site-packages (from matplotlib) (10.4.0)\n",
      "Requirement already satisfied: pyparsing>=2.3.1 in c:\\users\\hinge\\appdata\\roaming\\python\\python38\\site-packages (from matplotlib) (3.1.4)\n",
      "Requirement already satisfied: importlib-resources>=3.2.0 in c:\\users\\hinge\\appdata\\roaming\\python\\python38\\site-packages (from matplotlib) (6.4.5)\n",
      "Requirement already satisfied: zipp>=3.1.0 in c:\\users\\hinge\\appdata\\roaming\\python\\python38\\site-packages (from importlib-resources>=3.2.0->matplotlib) (3.20.2)\n"
     ]
    }
   ],
   "source": [
    "\n",
    "!pip install pyhive pandas seaborn matplotlib\n",
    "!pip install thrift thrift-sasl pyhive pandas seaborn matplotlib"
   ]
  },
  {
   "cell_type": "code",
   "execution_count": 8,
   "id": "15768636-0023-4562-ba0c-fff9fd459b94",
   "metadata": {},
   "outputs": [
    {
     "name": "stdout",
     "output_type": "stream",
     "text": [
      "   month  count\n",
      "0    apr      9\n",
      "1    aug    184\n",
      "2    dec      9\n",
      "3    feb     20\n",
      "4    jan      2\n",
      "5    jul     32\n",
      "6    jun     17\n",
      "7    mar     54\n",
      "8    may      2\n",
      "9    nov      1\n",
      "10   oct     15\n",
      "11   sep    172\n"
     ]
    }
   ],
   "source": [
    "# Group by month and count occurrences\n",
    "monthly_count = df.groupby('month').size().reset_index(name='count')\n",
    "print(monthly_count)"
   ]
  },
  {
   "cell_type": "code",
   "execution_count": 9,
   "id": "4883231f-58e6-4593-932a-0ee8198c9c6c",
   "metadata": {},
   "outputs": [
    {
     "name": "stdout",
     "output_type": "stream",
     "text": [
      "month\n",
      "apr    12.044444\n",
      "aug    21.631522\n",
      "dec     4.522222\n",
      "feb     9.635000\n",
      "jan     5.250000\n",
      "jul    22.109375\n",
      "jun    20.494118\n",
      "mar    13.083333\n",
      "may    14.650000\n",
      "nov    11.800000\n",
      "oct    17.093333\n",
      "sep    19.612209\n",
      "Name: temp, dtype: float64\n"
     ]
    }
   ],
   "source": [
    "# Perform other aggregations or queries\n",
    "temperature_avg = df.groupby('month')['temp'].mean()\n",
    "print(temperature_avg)"
   ]
  },
  {
   "cell_type": "code",
   "execution_count": 10,
   "id": "43974a01-1cf7-4563-ad30-aa09c6d1c870",
   "metadata": {},
   "outputs": [],
   "source": [
    "import seaborn as sns\n",
    "import matplotlib.pyplot as plt"
   ]
  },
  {
   "cell_type": "code",
   "execution_count": 11,
   "id": "9471ff7b-0adb-4c61-9c64-d78c4dde20e1",
   "metadata": {},
   "outputs": [
    {
     "data": {
      "image/png": "[encoded data removed]",
      "text/plain": [
       "<Figure size 1000x500 with 1 Axes>"
      ]
     },
     "metadata": {},
     "output_type": "display_data"
    }
   ],
   "source": [
    "plt.figure(figsize=(10, 5))\n",
    "sns.boxplot(x=df['month'], y=df['temp'])\n",
    "plt.title(\"Temperature Variation by Month\")\n",
    "plt.show()"
   ]
  },
  {
   "cell_type": "code",
   "execution_count": 12,
   "id": "d89b82ec-f78f-4849-b5f2-ab318f800075",
   "metadata": {},
   "outputs": [],
   "source": [
    "import sqlite3"
   ]
  },
  {
   "cell_type": "code",
   "execution_count": 13,
   "id": "2afc88cd-fd8d-4d33-ae6e-7023df2fb7bb",
   "metadata": {},
   "outputs": [
    {
     "name": "stdout",
     "output_type": "stream",
     "text": [
      "[(7, 5, 'mar', 'fri', 86.2, 26.2, 94.3, 5.1, 8.2, 51, 6.7, 0.0, 0.0), (7, 4, 'oct', 'tue', 90.6, 35.4, 669.1, 6.7, 18.0, 33, 0.9, 0.0, 0.0), (7, 4, 'oct', 'sat', 90.6, 43.7, 686.9, 6.7, 14.6, 33, 1.3, 0.0, 0.0), (8, 6, 'mar', 'fri', 91.7, 33.3, 77.5, 9.0, 8.3, 97, 4.0, 0.2, 0.0), (8, 6, 'mar', 'sun', 89.3, 51.3, 102.2, 9.6, 11.4, 99, 1.8, 0.0, 0.0)]\n"
     ]
    }
   ],
   "source": [
    "# Create/Connect to SQLite database\n",
    "conn = sqlite3.connect('forestfires.db')\n",
    "# Write the DataFrame to the SQLite database\n",
    "df.to_sql('forestfires', conn, if_exists='replace', index=False)\n",
    "# Optional: Check if data is loaded correctly\n",
    "cursor = conn.cursor()\n",
    "cursor.execute(\"SELECT * FROM forestfires LIMIT 5\")\n",
    "data = cursor.fetchall()\n",
    "print(data)\n",
    "# Close the connection\n",
    "conn.close()"
   ]
  }
 ],
 "metadata": {
  "kernelspec": {
   "display_name": "Python 3 (ipykernel)",
   "language": "python",
   "name": "python3"
  },
  "language_info": {
   "codemirror_mode": {
    "name": "ipython",
    "version": 3
   },
   "file_extension": ".py",
   "mimetype": "text/x-python",
   "name": "python",
   "nbconvert_exporter": "python",
   "pygments_lexer": "ipython3",
   "version": "3.12.4"
  }
 },
 "nbformat": 4,
 "nbformat_minor": 5
}
