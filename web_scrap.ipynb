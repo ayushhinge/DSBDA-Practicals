{
 "cells": [
  {
   "cell_type": "code",
   "execution_count": 2,
   "id": "7de5302b-41be-4846-9ca6-a3309af6b780",
   "metadata": {},
   "outputs": [],
   "source": [
    "import requests\n",
    "from bs4 import BeautifulSoup\n",
    "import json"
   ]
  },
  {
   "cell_type": "code",
   "execution_count": 3,
   "id": "024f8ebc-51fd-4f38-a972-b3c15ecabcbc",
   "metadata": {},
   "outputs": [],
   "source": [
    "url = 'https://www.meesho.com/stylish-casual-block-heels-for-women/p/5y67an'"
   ]
  },
  {
   "cell_type": "code",
   "execution_count": 5,
   "id": "7c40b744-e6bc-451a-b06a-1fe44eddc32b",
   "metadata": {},
   "outputs": [],
   "source": [
    "response = requests.get(url)\n",
    "soup = BeautifulSoup(response.content,'html.parser')"
   ]
  },
  {
   "cell_type": "code",
   "execution_count": 6,
   "id": "32f04cca-4fb3-492c-bd0f-2fe8e350d6e0",
   "metadata": {},
   "outputs": [],
   "source": [
    "scripts = soup.find_all('script', type = 'application/ld+json')"
   ]
  },
  {
   "cell_type": "code",
   "execution_count": 8,
   "id": "a75eab71-fa22-4643-ae37-01a40396be93",
   "metadata": {},
   "outputs": [
    {
     "name": "stdout",
     "output_type": "stream",
     "text": [
      "Customer Name : Mangla Bopche\n",
      "Rating : 5\n",
      "Review : It's very classy and aesthetic💗. Perfect fit and colour💗\n",
      "Tag : Not available in static HTML\n",
      "Customer Name : Ruhy Nasim \n",
      "Rating : 5\n",
      "Review : All is fine but just doesn't look that much satisfying as picture . Rest is well. In 257 is ok. Facing only one issue that it's HEELS ticking sound\n",
      "Tag : Not available in static HTML\n"
     ]
    }
   ],
   "source": [
    "for script in scripts:\n",
    "    try:\n",
    "        data = json.loads(script.string)\n",
    "        if \"review\" in data:\n",
    "            for review in data[\"review\"]:\n",
    "                print(f\"Customer Name : {review['author']['name']}\")\n",
    "                print(f\"Rating : {review['reviewRating']['ratingValue']}\")\n",
    "                print(f\"Review : {review['reviewBody']}\")\n",
    "                print(f\"Tag : Not available in static HTML\")\n",
    "    except Exception as e:\n",
    "        continue"
   ]
  },
  {
   "cell_type": "code",
   "execution_count": 9,
   "id": "8d177334-e9f1-4bfa-8e45-050643d0287e",
   "metadata": {},
   "outputs": [
    {
     "name": "stdout",
     "output_type": "stream",
     "text": [
      "Overall rating: 4.1\n"
     ]
    }
   ],
   "source": [
    "rating_tag = soup.find('h1',{'class' : 'sc-eDvSVe cdZTwf'})\n",
    "print(\"Overall rating:\",rating_tag.get_text())"
   ]
  },
  {
   "cell_type": "code",
   "execution_count": null,
   "id": "1a04be0b-d810-43ba-bb15-2da3705f963e",
   "metadata": {},
   "outputs": [],
   "source": []
  }
 ],
 "metadata": {
  "kernelspec": {
   "display_name": "Python 3 (ipykernel)",
   "language": "python",
   "name": "python3"
  },
  "language_info": {
   "codemirror_mode": {
    "name": "ipython",
    "version": 3
   },
   "file_extension": ".py",
   "mimetype": "text/x-python",
   "name": "python",
   "nbconvert_exporter": "python",
   "pygments_lexer": "ipython3",
   "version": "3.13.1"
  }
 },
 "nbformat": 4,
 "nbformat_minor": 5
}
